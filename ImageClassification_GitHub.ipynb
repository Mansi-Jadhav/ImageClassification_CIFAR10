{
 "cells": [
  {
   "cell_type": "markdown",
   "id": "e591825f-7ab2-42eb-8e2c-f3ca3197f610",
   "metadata": {},
   "source": [
    "# Image Classification"
   ]
  },
  {
   "cell_type": "code",
   "execution_count": 15,
   "id": "275adb3e-a40b-4543-8c56-15c26e147574",
   "metadata": {},
   "outputs": [
    {
     "name": "stdout",
     "output_type": "stream",
     "text": [
      "Using device: cuda\n"
     ]
    }
   ],
   "source": [
    "import torch\n",
    "import torchvision\n",
    "import torchvision.transforms as transforms\n",
    "import torch.nn as nn\n",
    "import torch.nn.functional as F\n",
    "import torch.optim as optim\n",
    "from tqdm import tqdm\n",
    "from torch.optim import Adam\n",
    "from torch.optim.lr_scheduler import OneCycleLR\n",
    "import matplotlib.pyplot as plt\n",
    "\n",
    "torch.manual_seed(42) # We are setting a PyTorch random seed for reproducibility.\n",
    "\n",
    "# Device configuration\n",
    "device = torch.device(\"cuda\" if torch.cuda.is_available() else \"cpu\")\n",
    "print(f\"Using device: {device}\")"
   ]
  },
  {
   "cell_type": "markdown",
   "id": "39f056fa-09a5-400f-bd61-376a47088c92",
   "metadata": {},
   "source": [
    "## Architecture"
   ]
  },
  {
   "cell_type": "code",
   "execution_count": 16,
   "id": "4d6605d6-fc46-4d5d-a355-2bb311b8528a",
   "metadata": {},
   "outputs": [],
   "source": [
    "from torch.optim import Adam\n",
    "from torch.optim.lr_scheduler import OneCycleLR\n",
    "\n",
    "class CutOut(object):\n",
    "    def __init__(self, n_holes=1, length=16):\n",
    "        self.n_holes = n_holes  # Number of holes to cut out from the image\n",
    "        self.length = length   # Length of each square hole\n",
    "\n",
    "    def __call__(self, img):\n",
    "        h = img.size(1) # Get the height of the image\n",
    "        w = img.size(2) # Get the width of the image\n",
    "        mask = torch.ones((h, w), dtype=torch.float32) # Create a mask of ones (same height & width as the image)\n",
    "        \n",
    "        for _ in range(self.n_holes):\n",
    "            # Randomly select a center point (x, y) for the hole\n",
    "            y = torch.randint(0, h, (1,)).item()\n",
    "            x = torch.randint(0, w, (1,)).item()\n",
    "             # Compute the coordinates of the square hole\n",
    "            y1 = max(0, y - self.length // 2)\n",
    "            y2 = min(h, y + self.length // 2)\n",
    "            x1 = max(0, x - self.length // 2)\n",
    "            x2 = min(w, x + self.length // 2)\n",
    "            mask[y1:y2, x1:x2] = 0. # Set the region of the mask to zero (this will cut out that region)\n",
    "        mask = mask.expand_as(img)  # Expand the 2D mask to match all image channels (C x H x W)\n",
    "        img = img * mask # Apply the mask to the image (zeroing out masked regions)\n",
    "        \n",
    "        return img\n",
    "\n",
    "# Data loading with augmentation\n",
    "def load_data_cifar10(batch_size, resize=None):\n",
    "    trans_list = [\n",
    "        transforms.RandomCrop(32, padding=4, padding_mode='reflect'), # Crop the given image at a random location\n",
    "        transforms.RandomHorizontalFlip(),  # Horizontally flip the given image randomly\n",
    "        transforms.ToTensor(),\n",
    "        transforms.RandomErasing(p=0.5),\n",
    "        CutOut(n_holes=1, length=8),  # Randomly remove a square region of the image\n",
    "        transforms.Normalize((0.4914, 0.4822, 0.4465), (0.2470, 0.2435, 0.2616)),\n",
    "    ]\n",
    "    trans = transforms.Compose(trans_list)\n",
    "    # No data augmentation during testing\n",
    "    test_trans = transforms.Compose([\n",
    "        transforms.ToTensor(),\n",
    "        transforms.Normalize((0.4914, 0.4822, 0.4465), (0.2470, 0.2435, 0.2616))\n",
    "    ])\n",
    "    \n",
    "    cifar_train = torchvision.datasets.CIFAR10(\n",
    "        root=\"../data\", train=True, transform=trans, download=True)\n",
    "    cifar_test = torchvision.datasets.CIFAR10(\n",
    "        root=\"../data\", train=False, transform=test_trans, download=True)\n",
    "    \n",
    "    return (torch.utils.data.DataLoader(cifar_train, batch_size, shuffle=True, num_workers=0),\n",
    "            torch.utils.data.DataLoader(cifar_test, batch_size, shuffle=False, num_workers=0))\n",
    "\n",
    "# Model architecture - Same as the basic architecture\n",
    "class IntermediateBlock(nn.Module):\n",
    "    def __init__(self, in_channels, out_channels_list, kernel_sizes, strides=1, paddings=0):\n",
    "        super(IntermediateBlock, self).__init__()\n",
    "        \n",
    "        if isinstance(strides, int):\n",
    "            strides = [strides] * len(out_channels_list)\n",
    "        if isinstance(paddings, int):\n",
    "            paddings = [paddings] * len(out_channels_list)\n",
    "            \n",
    "        self.conv_layers = nn.ModuleList()\n",
    "        for out_channels, kernel_size, stride, padding in zip(out_channels_list, kernel_sizes, strides, paddings):\n",
    "            self.conv_layers.append(\n",
    "                nn.Conv2d(in_channels, out_channels, kernel_size, stride=stride, padding=padding)\n",
    "            )\n",
    "            \n",
    "        self.fc = nn.Linear(in_channels, len(out_channels_list))\n",
    "        \n",
    "    def forward(self, x):\n",
    "        m = torch.mean(x, dim=[2, 3])\n",
    "        a = self.fc(m)\n",
    "        a = F.softmax(a, dim=1)\n",
    "        \n",
    "        outputs = []\n",
    "        for i, conv in enumerate(self.conv_layers):\n",
    "            conv_out = conv(x)\n",
    "            weight = a[:, i].view(-1, 1, 1, 1)\n",
    "            weighted_out = weight * conv_out\n",
    "            outputs.append(weighted_out)\n",
    "            \n",
    "        x_out = torch.sum(torch.stack(outputs), dim=0)\n",
    "        return x_out\n",
    "\n",
    "class OutputBlock(nn.Module):\n",
    "    def __init__(self, in_channels, hidden_sizes=[], num_classes=10, dropout_rate=0.3):\n",
    "        super(OutputBlock, self).__init__()\n",
    "        \n",
    "        layers = []\n",
    "        prev_size = in_channels\n",
    "        \n",
    "        for size in hidden_sizes:\n",
    "            layers.append(nn.Linear(prev_size, size))\n",
    "            layers.append(nn.ReLU())\n",
    "            layers.append(nn.Dropout(dropout_rate))  # Use dropout in the output layer for training\n",
    "            prev_size = size\n",
    "            \n",
    "        layers.append(nn.Linear(prev_size, num_classes))\n",
    "        self.fc_layers = nn.Sequential(*layers)\n",
    "        \n",
    "    def forward(self, x):\n",
    "        m = torch.mean(x, dim=[2, 3])\n",
    "        logits = self.fc_layers(m)\n",
    "        return logits\n",
    "\n",
    "class CIFAR10Model(nn.Module):\n",
    "    def __init__(self):\n",
    "        super(CIFAR10Model, self).__init__()\n",
    "\n",
    "        # Increased the number of layers and blocks as compared to the basic structure\n",
    "        \n",
    "        self.block1 = IntermediateBlock(\n",
    "            in_channels=3,    # RGB colour channels will be the input\n",
    "            out_channels_list=[64, 64, 64, 64],  # 4 layers with 64 output channels in each\n",
    "            kernel_sizes=[3, 5, 7, 1],  # 4 different kernel sizes\n",
    "            paddings=[1, 2, 3, 0]  # Padding for all 4 layers\n",
    "        )\n",
    "        \n",
    "        self.block2 = IntermediateBlock(\n",
    "            in_channels=64,\n",
    "            out_channels_list=[128, 128, 128],\n",
    "            kernel_sizes=[3, 5, 1],\n",
    "            paddings=[1, 2, 0]\n",
    "        )\n",
    "\n",
    "        self.block3 = IntermediateBlock(\n",
    "            in_channels=128,\n",
    "            out_channels_list=[256, 256],\n",
    "            kernel_sizes=[3, 1],\n",
    "            paddings=[1, 0]\n",
    "        )\n",
    "\n",
    "        self.block4 = IntermediateBlock(\n",
    "            in_channels=256,\n",
    "            out_channels_list=[512, 512],\n",
    "            kernel_sizes=[3, 1],\n",
    "            paddings=[1, 0]\n",
    "        )\n",
    "\n",
    "        self.pool_max = nn.MaxPool2d(kernel_size=2, stride=2)\n",
    "        # self.pool_avg = nn.AvgPool2d(kernel_size=2, stride=2)\n",
    "        self.pool_avg = nn.AdaptiveAvgPool2d((2,2))\n",
    "        self.bn1 = nn.BatchNorm2d(64)\n",
    "        self.bn2 = nn.BatchNorm2d(128)\n",
    "        self.bn3 = nn.BatchNorm2d(256)\n",
    "        self.bn4 = nn.BatchNorm2d(512)\n",
    "        self.dropout = nn.Dropout(0.2)\n",
    "        \n",
    "        self.output = OutputBlock(\n",
    "            in_channels=512,\n",
    "            hidden_sizes=[1024, 512],\n",
    "            num_classes=10,\n",
    "            dropout_rate=0.5\n",
    "        )\n",
    "\n",
    "    def forward(self, x):\n",
    "        # Block 1\n",
    "        x = self.block1(x)\n",
    "        x = self.bn1(x)\n",
    "        x = F.relu(x)\n",
    "        x = self.pool_max(x)\n",
    "    \n",
    "        # Block 2\n",
    "        x = self.block2(x)\n",
    "        x = self.bn2(x)\n",
    "        x = F.relu(x)\n",
    "        x = self.pool_max(x)\n",
    "\n",
    "        # Block 3\n",
    "        x = self.block3(x)\n",
    "        x = self.bn3(x)\n",
    "        x = F.relu(x)\n",
    "        x = self.pool_max(x)\n",
    "    \n",
    "        # Block 4\n",
    "        x = self.block4(x)\n",
    "        x = self.bn4(x)\n",
    "        x = F.relu(x)\n",
    "        x = self.pool_avg(x)\n",
    "    \n",
    "        x = self.output(x)\n",
    "        return x\n",
    "\n",
    "# Initialise weights using Xavier initialisation\n",
    "def init_weights_xavier(m):\n",
    "    if isinstance(m, nn.Conv2d) or isinstance(m, nn.Linear):\n",
    "        nn.init.xavier_uniform_(m.weight)\n",
    "        if m.bias is not None:\n",
    "            nn.init.constant_(m.bias, 0)\n",
    "    elif isinstance(m, nn.BatchNorm2d):  # Handle BatchNorm\n",
    "        nn.init.ones_(m.weight)\n",
    "        nn.init.zeros_(m.bias)\n",
    "        \n",
    "def evaluate_model(model, data_loader, device, criterion):\n",
    "    model.eval()\n",
    "    total_loss = 0.0\n",
    "    correct = 0\n",
    "    total = 0\n",
    "\n",
    "    with torch.no_grad():\n",
    "        for X, y in data_loader:\n",
    "            X, y = X.to(device), y.to(device)\n",
    "            outputs = model(X)\n",
    "            total_loss += criterion(outputs, y).item()\n",
    "            _, predicted = torch.max(outputs.data, 1)\n",
    "            total += y.size(0)\n",
    "            correct += (predicted == y).sum().item()\n",
    "\n",
    "    return total_loss / len(data_loader), 100 * correct / total\n",
    "\n",
    "# Implement Early stopping in order to save computation time and effort\n",
    "class EarlyStopping:\n",
    "    def __init__(self, patience=10, delta=0.001, save_path=\"best_model.pth\"):\n",
    "        self.patience = patience\n",
    "        self.delta = delta  # Minimum improvement threshold\n",
    "        self.best_acc = 0.0\n",
    "        self.counter = 0\n",
    "        self.early_stop = False\n",
    "        self.save_path = save_path\n",
    "\n",
    "    def __call__(self, test_acc, model):\n",
    "        if test_acc > self.best_acc + self.delta:  # Check if the test accuracy has improved by delta\n",
    "            self.best_acc = test_acc\n",
    "            self.counter = 0\n",
    "            torch.save(model.state_dict(), self.save_path)\n",
    "        else:\n",
    "            self.counter += 1\n",
    "            if self.counter >= self.patience:\n",
    "                self.early_stop = True\n",
    "\n",
    "# Main training function\n",
    "def train_model():\n",
    "    # Initialize\n",
    "    batch_size = 128\n",
    "    train_iter, test_iter = load_data_cifar10(batch_size)\n",
    "\n",
    "    model = CIFAR10Model().to(device)\n",
    "    criterion = nn.CrossEntropyLoss(label_smoothing=0.05)  # Cross-entropy loss with label smoothing\n",
    "    model.apply(init_weights_xavier)  # Weight initialization\n",
    "    optimizer = Adam(model.parameters(), lr=0.005, weight_decay=1e-5)  # Adam optimizer\n",
    "    steps_per_epoch = len(train_iter)\n",
    "    scheduler = OneCycleLR(\n",
    "        optimizer,\n",
    "        max_lr=0.005,                 # Peak LR\n",
    "        steps_per_epoch=steps_per_epoch,\n",
    "        epochs=100,\n",
    "        pct_start=0.3,                # 30% of epochs increasing LR\n",
    "        anneal_strategy='cos',       # Cosine decay\n",
    "        div_factor=25.0,             # Initial LR = max_lr / div_factor\n",
    "        final_div_factor=1e4,        # Final LR = initial / final_div_factor\n",
    "    )\n",
    "    early_stopping = EarlyStopping(patience=20, delta=0.01)  # Define early stopping\n",
    "\n",
    "    metrics = {'batch_losses': [], 'train_loss': [], 'train_acc': [], 'test_loss': [], 'test_acc': []} # Metrics to be saved\n",
    "\n",
    "    for epoch in range(100):\n",
    "        model.train()\n",
    "        epoch_train_loss = 0.0\n",
    "        correct = 0\n",
    "        total = 0\n",
    "\n",
    "        for X, y in tqdm(train_iter, desc=f\"Train Epoch {epoch+1}\"):\n",
    "            X, y = X.to(device), y.to(device)\n",
    "            optimizer.zero_grad()  # Zero out gradients from the previous step\n",
    "\n",
    "            outputs = model(X)  # Forward pass: compute model predictions\n",
    "            loss = criterion(outputs, y)  # Compute the loss between predictions and actual labels\n",
    "            loss.backward()  # Backward pass: compute gradients\n",
    "            optimizer.step()  # Update model weights\n",
    "            scheduler.step()  # Update learning rate using the scheduler\n",
    "            metrics['batch_losses'].append(loss.item())  # Store the loss value for this batch (for plotting later)\n",
    "            epoch_train_loss += loss.item()  # Accumulate total training loss for the epoch\n",
    "        #     _, predicted = torch.max(outputs, 1)\n",
    "        #     total += y.size(0)\n",
    "        #     correct += (predicted == y).sum().item()  # Compute number of correct predictions in the batch\n",
    "\n",
    "        # avg_train_loss = epoch_train_loss / len(train_iter) # Compute average training loss for the epoch\n",
    "        # train_acc = 100 * correct / total # Compute training accuracy for the epoch\n",
    "\n",
    "        train_loss, train_acc = evaluate_model(model, train_iter, device, criterion) # Get the training loss and accuracy\n",
    "        test_loss, test_acc = evaluate_model(model, test_iter, device, criterion) # Evaluate the model on the test dataset\n",
    "\n",
    "        # Log metrics\n",
    "        metrics['train_loss'].append(train_loss)\n",
    "        metrics['train_acc'].append(train_acc)\n",
    "        metrics['test_loss'].append(test_loss)\n",
    "        metrics['test_acc'].append(test_acc)\n",
    "\n",
    "        print(f\"Epoch {epoch+1}: Train Loss: {train_loss:.4f} | Train Acc: {train_acc:.2f}% | \"\n",
    "              f\"Test Loss: {test_loss:.4f} | Test Acc: {test_acc:.2f}%\")\n",
    "\n",
    "        # Apply early stopping if test accuracy hasn't improved\n",
    "        early_stopping(test_acc, model)  # Instead of test_loss\n",
    "        if early_stopping.early_stop:\n",
    "            print(f\"Early stopping triggered! Best acc: {early_stopping.best_acc:.2f}%\")\n",
    "            break\n",
    "\n",
    "        # scheduler.step()\n",
    "\n",
    "    print(f\"Training complete. Best Test Acc: {max(metrics['test_acc']):.2f}%\")\n",
    "\n",
    "    return model, metrics"
   ]
  },
  {
   "cell_type": "code",
   "execution_count": 17,
   "id": "4c9e0e51-cc72-4c0d-a51c-287fc6129e02",
   "metadata": {},
   "outputs": [],
   "source": [
    "def plot_metrics(metrics):\n",
    "    # Plot batch-wise training loss\n",
    "    plt.figure(figsize=(10, 4))\n",
    "    plt.plot(metrics['batch_losses'], label='Training Loss (per batch)')\n",
    "    plt.title('Training Loss Per Batch')\n",
    "    plt.xlabel('Batch')\n",
    "    plt.ylabel('Loss')\n",
    "    plt.legend()\n",
    "    plt.grid(True)\n",
    "    plt.tight_layout()\n",
    "    plt.show()\n",
    "\n",
    "    # Plot train/test accuracy per epoch\n",
    "    plt.figure(figsize=(10, 4))\n",
    "    plt.plot(metrics['train_acc'], label='Training Accuracy')\n",
    "    plt.plot(metrics['test_acc'], label='Testing Accuracy')\n",
    "    plt.title('Training vs Testing Accuracy Per Epoch')\n",
    "    plt.xlabel('Epoch')\n",
    "    plt.ylabel('Accuracy (%)')\n",
    "    plt.legend()\n",
    "    plt.grid(True)\n",
    "    plt.tight_layout()\n",
    "    plt.show()"
   ]
  },
  {
   "cell_type": "markdown",
   "id": "f177f09a-da80-44bf-93c3-232f555d8834",
   "metadata": {},
   "source": [
    "## Evaluation"
   ]
  },
  {
   "cell_type": "code",
   "execution_count": 18,
   "id": "04cd97ac-d12f-49fa-97cc-524be49da5c7",
   "metadata": {
    "scrolled": true
   },
   "outputs": [
    {
     "name": "stdout",
     "output_type": "stream",
     "text": [
      "Files already downloaded and verified\n",
      "Files already downloaded and verified\n"
     ]
    },
    {
     "name": "stderr",
     "output_type": "stream",
     "text": [
      "Train Epoch 1: 100%|██████████| 391/391 [00:32<00:00, 12.11it/s]\n"
     ]
    },
    {
     "name": "stdout",
     "output_type": "stream",
     "text": [
      "Epoch 1: Train Loss: 1.7123 | Train Acc: 39.51% | Test Loss: 1.6080 | Test Acc: 43.67%\n"
     ]
    },
    {
     "name": "stderr",
     "output_type": "stream",
     "text": [
      "Train Epoch 2: 100%|██████████| 391/391 [00:32<00:00, 12.01it/s]\n"
     ]
    },
    {
     "name": "stdout",
     "output_type": "stream",
     "text": [
      "Epoch 2: Train Loss: 1.6659 | Train Acc: 44.15% | Test Loss: 1.4604 | Test Acc: 51.83%\n"
     ]
    },
    {
     "name": "stderr",
     "output_type": "stream",
     "text": [
      "Train Epoch 3: 100%|██████████| 391/391 [00:32<00:00, 12.12it/s]\n"
     ]
    },
    {
     "name": "stdout",
     "output_type": "stream",
     "text": [
      "Epoch 3: Train Loss: 1.4924 | Train Acc: 49.83% | Test Loss: 1.3869 | Test Acc: 54.15%\n"
     ]
    },
    {
     "name": "stderr",
     "output_type": "stream",
     "text": [
      "Train Epoch 4: 100%|██████████| 391/391 [00:32<00:00, 12.11it/s]\n"
     ]
    },
    {
     "name": "stdout",
     "output_type": "stream",
     "text": [
      "Epoch 4: Train Loss: 1.4916 | Train Acc: 51.51% | Test Loss: 1.4032 | Test Acc: 55.19%\n"
     ]
    },
    {
     "name": "stderr",
     "output_type": "stream",
     "text": [
      "Train Epoch 5: 100%|██████████| 391/391 [00:32<00:00, 12.12it/s]\n"
     ]
    },
    {
     "name": "stdout",
     "output_type": "stream",
     "text": [
      "Epoch 5: Train Loss: 1.3508 | Train Acc: 56.55% | Test Loss: 1.2257 | Test Acc: 62.60%\n"
     ]
    },
    {
     "name": "stderr",
     "output_type": "stream",
     "text": [
      "Train Epoch 6: 100%|██████████| 391/391 [00:32<00:00, 12.05it/s]\n"
     ]
    },
    {
     "name": "stdout",
     "output_type": "stream",
     "text": [
      "Epoch 6: Train Loss: 1.3599 | Train Acc: 56.76% | Test Loss: 1.2441 | Test Acc: 61.69%\n"
     ]
    },
    {
     "name": "stderr",
     "output_type": "stream",
     "text": [
      "Train Epoch 7: 100%|██████████| 391/391 [00:32<00:00, 12.12it/s]\n"
     ]
    },
    {
     "name": "stdout",
     "output_type": "stream",
     "text": [
      "Epoch 7: Train Loss: 1.3562 | Train Acc: 56.46% | Test Loss: 1.2342 | Test Acc: 62.21%\n"
     ]
    },
    {
     "name": "stderr",
     "output_type": "stream",
     "text": [
      "Train Epoch 8: 100%|██████████| 391/391 [00:32<00:00, 12.08it/s]\n"
     ]
    },
    {
     "name": "stdout",
     "output_type": "stream",
     "text": [
      "Epoch 8: Train Loss: 1.3252 | Train Acc: 58.25% | Test Loss: 1.1560 | Test Acc: 64.92%\n"
     ]
    },
    {
     "name": "stderr",
     "output_type": "stream",
     "text": [
      "Train Epoch 9: 100%|██████████| 391/391 [00:32<00:00, 12.09it/s]\n"
     ]
    },
    {
     "name": "stdout",
     "output_type": "stream",
     "text": [
      "Epoch 9: Train Loss: 1.1909 | Train Acc: 63.91% | Test Loss: 1.0784 | Test Acc: 68.02%\n"
     ]
    },
    {
     "name": "stderr",
     "output_type": "stream",
     "text": [
      "Train Epoch 10: 100%|██████████| 391/391 [00:32<00:00, 12.15it/s]\n"
     ]
    },
    {
     "name": "stdout",
     "output_type": "stream",
     "text": [
      "Epoch 10: Train Loss: 1.2571 | Train Acc: 59.77% | Test Loss: 1.1307 | Test Acc: 65.51%\n"
     ]
    },
    {
     "name": "stderr",
     "output_type": "stream",
     "text": [
      "Train Epoch 11: 100%|██████████| 391/391 [00:32<00:00, 12.04it/s]\n"
     ]
    },
    {
     "name": "stdout",
     "output_type": "stream",
     "text": [
      "Epoch 11: Train Loss: 1.1564 | Train Acc: 64.75% | Test Loss: 1.0152 | Test Acc: 70.61%\n"
     ]
    },
    {
     "name": "stderr",
     "output_type": "stream",
     "text": [
      "Train Epoch 12: 100%|██████████| 391/391 [00:32<00:00, 12.12it/s]\n"
     ]
    },
    {
     "name": "stdout",
     "output_type": "stream",
     "text": [
      "Epoch 12: Train Loss: 1.2035 | Train Acc: 63.74% | Test Loss: 1.0883 | Test Acc: 69.08%\n"
     ]
    },
    {
     "name": "stderr",
     "output_type": "stream",
     "text": [
      "Train Epoch 13: 100%|██████████| 391/391 [00:32<00:00, 12.15it/s]\n"
     ]
    },
    {
     "name": "stdout",
     "output_type": "stream",
     "text": [
      "Epoch 13: Train Loss: 1.1103 | Train Acc: 66.85% | Test Loss: 0.9765 | Test Acc: 72.92%\n"
     ]
    },
    {
     "name": "stderr",
     "output_type": "stream",
     "text": [
      "Train Epoch 14: 100%|██████████| 391/391 [00:32<00:00, 12.01it/s]\n"
     ]
    },
    {
     "name": "stdout",
     "output_type": "stream",
     "text": [
      "Epoch 14: Train Loss: 1.0784 | Train Acc: 69.15% | Test Loss: 0.9372 | Test Acc: 74.61%\n"
     ]
    },
    {
     "name": "stderr",
     "output_type": "stream",
     "text": [
      "Train Epoch 15: 100%|██████████| 391/391 [00:32<00:00, 11.93it/s]\n"
     ]
    },
    {
     "name": "stdout",
     "output_type": "stream",
     "text": [
      "Epoch 15: Train Loss: 1.0375 | Train Acc: 69.33% | Test Loss: 0.9294 | Test Acc: 74.53%\n"
     ]
    },
    {
     "name": "stderr",
     "output_type": "stream",
     "text": [
      "Train Epoch 16: 100%|██████████| 391/391 [00:32<00:00, 12.15it/s]\n"
     ]
    },
    {
     "name": "stdout",
     "output_type": "stream",
     "text": [
      "Epoch 16: Train Loss: 1.0535 | Train Acc: 69.46% | Test Loss: 0.9630 | Test Acc: 73.94%\n"
     ]
    },
    {
     "name": "stderr",
     "output_type": "stream",
     "text": [
      "Train Epoch 17: 100%|██████████| 391/391 [00:32<00:00, 12.15it/s]\n"
     ]
    },
    {
     "name": "stdout",
     "output_type": "stream",
     "text": [
      "Epoch 17: Train Loss: 1.0102 | Train Acc: 71.21% | Test Loss: 0.8949 | Test Acc: 76.52%\n"
     ]
    },
    {
     "name": "stderr",
     "output_type": "stream",
     "text": [
      "Train Epoch 18: 100%|██████████| 391/391 [00:32<00:00, 11.97it/s]\n"
     ]
    },
    {
     "name": "stdout",
     "output_type": "stream",
     "text": [
      "Epoch 18: Train Loss: 1.0213 | Train Acc: 70.58% | Test Loss: 0.9408 | Test Acc: 74.05%\n"
     ]
    },
    {
     "name": "stderr",
     "output_type": "stream",
     "text": [
      "Train Epoch 19: 100%|██████████| 391/391 [00:32<00:00, 11.99it/s]\n"
     ]
    },
    {
     "name": "stdout",
     "output_type": "stream",
     "text": [
      "Epoch 19: Train Loss: 1.0287 | Train Acc: 69.79% | Test Loss: 0.9028 | Test Acc: 75.42%\n"
     ]
    },
    {
     "name": "stderr",
     "output_type": "stream",
     "text": [
      "Train Epoch 20: 100%|██████████| 391/391 [00:32<00:00, 12.07it/s]\n"
     ]
    },
    {
     "name": "stdout",
     "output_type": "stream",
     "text": [
      "Epoch 20: Train Loss: 0.9289 | Train Acc: 74.47% | Test Loss: 0.8077 | Test Acc: 79.33%\n"
     ]
    },
    {
     "name": "stderr",
     "output_type": "stream",
     "text": [
      "Train Epoch 21: 100%|██████████| 391/391 [00:32<00:00, 11.96it/s]\n"
     ]
    },
    {
     "name": "stdout",
     "output_type": "stream",
     "text": [
      "Epoch 21: Train Loss: 0.9346 | Train Acc: 74.53% | Test Loss: 0.8080 | Test Acc: 79.53%\n"
     ]
    },
    {
     "name": "stderr",
     "output_type": "stream",
     "text": [
      "Train Epoch 22: 100%|██████████| 391/391 [00:32<00:00, 12.14it/s]\n"
     ]
    },
    {
     "name": "stdout",
     "output_type": "stream",
     "text": [
      "Epoch 22: Train Loss: 0.9662 | Train Acc: 73.13% | Test Loss: 0.8604 | Test Acc: 77.54%\n"
     ]
    },
    {
     "name": "stderr",
     "output_type": "stream",
     "text": [
      "Train Epoch 23: 100%|██████████| 391/391 [00:32<00:00, 12.17it/s]\n"
     ]
    },
    {
     "name": "stdout",
     "output_type": "stream",
     "text": [
      "Epoch 23: Train Loss: 0.9230 | Train Acc: 75.06% | Test Loss: 0.8247 | Test Acc: 79.51%\n"
     ]
    },
    {
     "name": "stderr",
     "output_type": "stream",
     "text": [
      "Train Epoch 24: 100%|██████████| 391/391 [00:32<00:00, 12.14it/s]\n"
     ]
    },
    {
     "name": "stdout",
     "output_type": "stream",
     "text": [
      "Epoch 24: Train Loss: 0.9288 | Train Acc: 74.64% | Test Loss: 0.8309 | Test Acc: 79.13%\n"
     ]
    },
    {
     "name": "stderr",
     "output_type": "stream",
     "text": [
      "Train Epoch 25: 100%|██████████| 391/391 [00:32<00:00, 12.08it/s]\n"
     ]
    },
    {
     "name": "stdout",
     "output_type": "stream",
     "text": [
      "Epoch 25: Train Loss: 0.9008 | Train Acc: 75.48% | Test Loss: 0.7966 | Test Acc: 80.26%\n"
     ]
    },
    {
     "name": "stderr",
     "output_type": "stream",
     "text": [
      "Train Epoch 26: 100%|██████████| 391/391 [00:32<00:00, 12.04it/s]\n"
     ]
    },
    {
     "name": "stdout",
     "output_type": "stream",
     "text": [
      "Epoch 26: Train Loss: 0.8641 | Train Acc: 77.26% | Test Loss: 0.7542 | Test Acc: 82.40%\n"
     ]
    },
    {
     "name": "stderr",
     "output_type": "stream",
     "text": [
      "Train Epoch 27: 100%|██████████| 391/391 [00:32<00:00, 12.08it/s]\n"
     ]
    },
    {
     "name": "stdout",
     "output_type": "stream",
     "text": [
      "Epoch 27: Train Loss: 0.9314 | Train Acc: 74.62% | Test Loss: 0.8312 | Test Acc: 79.07%\n"
     ]
    },
    {
     "name": "stderr",
     "output_type": "stream",
     "text": [
      "Train Epoch 28: 100%|██████████| 391/391 [00:32<00:00, 12.14it/s]\n"
     ]
    },
    {
     "name": "stdout",
     "output_type": "stream",
     "text": [
      "Epoch 28: Train Loss: 0.9151 | Train Acc: 75.40% | Test Loss: 0.7848 | Test Acc: 81.30%\n"
     ]
    },
    {
     "name": "stderr",
     "output_type": "stream",
     "text": [
      "Train Epoch 29: 100%|██████████| 391/391 [00:32<00:00, 12.11it/s]\n"
     ]
    },
    {
     "name": "stdout",
     "output_type": "stream",
     "text": [
      "Epoch 29: Train Loss: 0.8693 | Train Acc: 77.25% | Test Loss: 0.7580 | Test Acc: 81.89%\n"
     ]
    },
    {
     "name": "stderr",
     "output_type": "stream",
     "text": [
      "Train Epoch 30: 100%|██████████| 391/391 [00:32<00:00, 12.07it/s]\n"
     ]
    },
    {
     "name": "stdout",
     "output_type": "stream",
     "text": [
      "Epoch 30: Train Loss: 0.8641 | Train Acc: 77.19% | Test Loss: 0.7506 | Test Acc: 82.27%\n"
     ]
    },
    {
     "name": "stderr",
     "output_type": "stream",
     "text": [
      "Train Epoch 31: 100%|██████████| 391/391 [00:33<00:00, 11.57it/s]\n"
     ]
    },
    {
     "name": "stdout",
     "output_type": "stream",
     "text": [
      "Epoch 31: Train Loss: 0.8301 | Train Acc: 78.78% | Test Loss: 0.7510 | Test Acc: 82.10%\n"
     ]
    },
    {
     "name": "stderr",
     "output_type": "stream",
     "text": [
      "Train Epoch 32: 100%|██████████| 391/391 [00:32<00:00, 11.91it/s]\n"
     ]
    },
    {
     "name": "stdout",
     "output_type": "stream",
     "text": [
      "Epoch 32: Train Loss: 0.8617 | Train Acc: 77.79% | Test Loss: 0.7565 | Test Acc: 82.22%\n"
     ]
    },
    {
     "name": "stderr",
     "output_type": "stream",
     "text": [
      "Train Epoch 33: 100%|██████████| 391/391 [00:32<00:00, 11.93it/s]\n"
     ]
    },
    {
     "name": "stdout",
     "output_type": "stream",
     "text": [
      "Epoch 33: Train Loss: 0.8592 | Train Acc: 78.09% | Test Loss: 0.7596 | Test Acc: 82.28%\n"
     ]
    },
    {
     "name": "stderr",
     "output_type": "stream",
     "text": [
      "Train Epoch 34: 100%|██████████| 391/391 [00:32<00:00, 12.18it/s]\n"
     ]
    },
    {
     "name": "stdout",
     "output_type": "stream",
     "text": [
      "Epoch 34: Train Loss: 0.8415 | Train Acc: 78.93% | Test Loss: 0.7501 | Test Acc: 82.65%\n"
     ]
    },
    {
     "name": "stderr",
     "output_type": "stream",
     "text": [
      "Train Epoch 35: 100%|██████████| 391/391 [00:32<00:00, 12.08it/s]\n"
     ]
    },
    {
     "name": "stdout",
     "output_type": "stream",
     "text": [
      "Epoch 35: Train Loss: 0.8196 | Train Acc: 79.35% | Test Loss: 0.7359 | Test Acc: 82.49%\n"
     ]
    },
    {
     "name": "stderr",
     "output_type": "stream",
     "text": [
      "Train Epoch 36: 100%|██████████| 391/391 [00:32<00:00, 12.07it/s]\n"
     ]
    },
    {
     "name": "stdout",
     "output_type": "stream",
     "text": [
      "Epoch 36: Train Loss: 0.7855 | Train Acc: 80.33% | Test Loss: 0.7169 | Test Acc: 83.68%\n"
     ]
    },
    {
     "name": "stderr",
     "output_type": "stream",
     "text": [
      "Train Epoch 37: 100%|██████████| 391/391 [00:32<00:00, 12.04it/s]\n"
     ]
    },
    {
     "name": "stdout",
     "output_type": "stream",
     "text": [
      "Epoch 37: Train Loss: 0.8124 | Train Acc: 79.58% | Test Loss: 0.7220 | Test Acc: 83.21%\n"
     ]
    },
    {
     "name": "stderr",
     "output_type": "stream",
     "text": [
      "Train Epoch 38: 100%|██████████| 391/391 [00:32<00:00, 12.07it/s]\n"
     ]
    },
    {
     "name": "stdout",
     "output_type": "stream",
     "text": [
      "Epoch 38: Train Loss: 0.7804 | Train Acc: 80.80% | Test Loss: 0.7036 | Test Acc: 84.11%\n"
     ]
    },
    {
     "name": "stderr",
     "output_type": "stream",
     "text": [
      "Train Epoch 39: 100%|██████████| 391/391 [00:32<00:00, 12.07it/s]\n"
     ]
    },
    {
     "name": "stdout",
     "output_type": "stream",
     "text": [
      "Epoch 39: Train Loss: 0.8155 | Train Acc: 79.69% | Test Loss: 0.7266 | Test Acc: 83.41%\n"
     ]
    },
    {
     "name": "stderr",
     "output_type": "stream",
     "text": [
      "Train Epoch 40: 100%|██████████| 391/391 [00:32<00:00, 11.99it/s]\n"
     ]
    },
    {
     "name": "stdout",
     "output_type": "stream",
     "text": [
      "Epoch 40: Train Loss: 0.8160 | Train Acc: 79.41% | Test Loss: 0.7242 | Test Acc: 83.15%\n"
     ]
    },
    {
     "name": "stderr",
     "output_type": "stream",
     "text": [
      "Train Epoch 41: 100%|██████████| 391/391 [00:32<00:00, 12.07it/s]\n"
     ]
    },
    {
     "name": "stdout",
     "output_type": "stream",
     "text": [
      "Epoch 41: Train Loss: 0.7831 | Train Acc: 80.61% | Test Loss: 0.6925 | Test Acc: 84.37%\n"
     ]
    },
    {
     "name": "stderr",
     "output_type": "stream",
     "text": [
      "Train Epoch 42: 100%|██████████| 391/391 [00:32<00:00, 12.12it/s]\n"
     ]
    },
    {
     "name": "stdout",
     "output_type": "stream",
     "text": [
      "Epoch 42: Train Loss: 0.7854 | Train Acc: 80.65% | Test Loss: 0.7236 | Test Acc: 83.21%\n"
     ]
    },
    {
     "name": "stderr",
     "output_type": "stream",
     "text": [
      "Train Epoch 43: 100%|██████████| 391/391 [00:31<00:00, 12.22it/s]\n"
     ]
    },
    {
     "name": "stdout",
     "output_type": "stream",
     "text": [
      "Epoch 43: Train Loss: 0.7630 | Train Acc: 81.54% | Test Loss: 0.6945 | Test Acc: 84.51%\n"
     ]
    },
    {
     "name": "stderr",
     "output_type": "stream",
     "text": [
      "Train Epoch 44: 100%|██████████| 391/391 [00:32<00:00, 12.15it/s]\n"
     ]
    },
    {
     "name": "stdout",
     "output_type": "stream",
     "text": [
      "Epoch 44: Train Loss: 0.8068 | Train Acc: 80.01% | Test Loss: 0.6978 | Test Acc: 84.45%\n"
     ]
    },
    {
     "name": "stderr",
     "output_type": "stream",
     "text": [
      "Train Epoch 45: 100%|██████████| 391/391 [00:32<00:00, 12.11it/s]\n"
     ]
    },
    {
     "name": "stdout",
     "output_type": "stream",
     "text": [
      "Epoch 45: Train Loss: 0.7176 | Train Acc: 83.28% | Test Loss: 0.6753 | Test Acc: 85.14%\n"
     ]
    },
    {
     "name": "stderr",
     "output_type": "stream",
     "text": [
      "Train Epoch 46: 100%|██████████| 391/391 [00:32<00:00, 12.12it/s]\n"
     ]
    },
    {
     "name": "stdout",
     "output_type": "stream",
     "text": [
      "Epoch 46: Train Loss: 0.7206 | Train Acc: 83.21% | Test Loss: 0.6462 | Test Acc: 86.24%\n"
     ]
    },
    {
     "name": "stderr",
     "output_type": "stream",
     "text": [
      "Train Epoch 47: 100%|██████████| 391/391 [00:32<00:00, 12.08it/s]\n"
     ]
    },
    {
     "name": "stdout",
     "output_type": "stream",
     "text": [
      "Epoch 47: Train Loss: 0.7174 | Train Acc: 83.14% | Test Loss: 0.6510 | Test Acc: 85.80%\n"
     ]
    },
    {
     "name": "stderr",
     "output_type": "stream",
     "text": [
      "Train Epoch 48: 100%|██████████| 391/391 [00:32<00:00, 12.14it/s]\n"
     ]
    },
    {
     "name": "stdout",
     "output_type": "stream",
     "text": [
      "Epoch 48: Train Loss: 0.7313 | Train Acc: 82.87% | Test Loss: 0.6683 | Test Acc: 85.39%\n"
     ]
    },
    {
     "name": "stderr",
     "output_type": "stream",
     "text": [
      "Train Epoch 49: 100%|██████████| 391/391 [00:32<00:00, 12.11it/s]\n"
     ]
    },
    {
     "name": "stdout",
     "output_type": "stream",
     "text": [
      "Epoch 49: Train Loss: 0.7180 | Train Acc: 83.43% | Test Loss: 0.6540 | Test Acc: 86.00%\n"
     ]
    },
    {
     "name": "stderr",
     "output_type": "stream",
     "text": [
      "Train Epoch 50: 100%|██████████| 391/391 [00:32<00:00, 12.07it/s]\n"
     ]
    },
    {
     "name": "stdout",
     "output_type": "stream",
     "text": [
      "Epoch 50: Train Loss: 0.6874 | Train Acc: 84.03% | Test Loss: 0.6450 | Test Acc: 85.97%\n"
     ]
    },
    {
     "name": "stderr",
     "output_type": "stream",
     "text": [
      "Train Epoch 51: 100%|██████████| 391/391 [00:32<00:00, 12.14it/s]\n"
     ]
    },
    {
     "name": "stdout",
     "output_type": "stream",
     "text": [
      "Epoch 51: Train Loss: 0.7168 | Train Acc: 82.94% | Test Loss: 0.6599 | Test Acc: 85.80%\n"
     ]
    },
    {
     "name": "stderr",
     "output_type": "stream",
     "text": [
      "Train Epoch 52: 100%|██████████| 391/391 [00:32<00:00, 12.07it/s]\n"
     ]
    },
    {
     "name": "stdout",
     "output_type": "stream",
     "text": [
      "Epoch 52: Train Loss: 0.6740 | Train Acc: 85.02% | Test Loss: 0.6277 | Test Acc: 86.88%\n"
     ]
    },
    {
     "name": "stderr",
     "output_type": "stream",
     "text": [
      "Train Epoch 53: 100%|██████████| 391/391 [00:32<00:00, 12.16it/s]\n"
     ]
    },
    {
     "name": "stdout",
     "output_type": "stream",
     "text": [
      "Epoch 53: Train Loss: 0.6944 | Train Acc: 83.94% | Test Loss: 0.6522 | Test Acc: 85.63%\n"
     ]
    },
    {
     "name": "stderr",
     "output_type": "stream",
     "text": [
      "Train Epoch 54: 100%|██████████| 391/391 [00:32<00:00, 12.15it/s]\n"
     ]
    },
    {
     "name": "stdout",
     "output_type": "stream",
     "text": [
      "Epoch 54: Train Loss: 0.7210 | Train Acc: 83.26% | Test Loss: 0.6626 | Test Acc: 85.41%\n"
     ]
    },
    {
     "name": "stderr",
     "output_type": "stream",
     "text": [
      "Train Epoch 55: 100%|██████████| 391/391 [00:32<00:00, 12.15it/s]\n"
     ]
    },
    {
     "name": "stdout",
     "output_type": "stream",
     "text": [
      "Epoch 55: Train Loss: 0.6587 | Train Acc: 85.53% | Test Loss: 0.6231 | Test Acc: 87.00%\n"
     ]
    },
    {
     "name": "stderr",
     "output_type": "stream",
     "text": [
      "Train Epoch 56: 100%|██████████| 391/391 [00:31<00:00, 12.23it/s]\n"
     ]
    },
    {
     "name": "stdout",
     "output_type": "stream",
     "text": [
      "Epoch 56: Train Loss: 0.6713 | Train Acc: 84.85% | Test Loss: 0.6272 | Test Acc: 86.73%\n"
     ]
    },
    {
     "name": "stderr",
     "output_type": "stream",
     "text": [
      "Train Epoch 57: 100%|██████████| 391/391 [00:32<00:00, 12.18it/s]\n"
     ]
    },
    {
     "name": "stdout",
     "output_type": "stream",
     "text": [
      "Epoch 57: Train Loss: 0.6644 | Train Acc: 85.38% | Test Loss: 0.6381 | Test Acc: 87.09%\n"
     ]
    },
    {
     "name": "stderr",
     "output_type": "stream",
     "text": [
      "Train Epoch 58: 100%|██████████| 391/391 [00:31<00:00, 12.25it/s]\n"
     ]
    },
    {
     "name": "stdout",
     "output_type": "stream",
     "text": [
      "Epoch 58: Train Loss: 0.6602 | Train Acc: 85.20% | Test Loss: 0.6132 | Test Acc: 87.77%\n"
     ]
    },
    {
     "name": "stderr",
     "output_type": "stream",
     "text": [
      "Train Epoch 59: 100%|██████████| 391/391 [00:33<00:00, 11.59it/s]\n"
     ]
    },
    {
     "name": "stdout",
     "output_type": "stream",
     "text": [
      "Epoch 59: Train Loss: 0.6360 | Train Acc: 86.25% | Test Loss: 0.6140 | Test Acc: 87.49%\n"
     ]
    },
    {
     "name": "stderr",
     "output_type": "stream",
     "text": [
      "Train Epoch 60: 100%|██████████| 391/391 [00:32<00:00, 12.10it/s]\n"
     ]
    },
    {
     "name": "stdout",
     "output_type": "stream",
     "text": [
      "Epoch 60: Train Loss: 0.6380 | Train Acc: 86.42% | Test Loss: 0.6185 | Test Acc: 87.01%\n"
     ]
    },
    {
     "name": "stderr",
     "output_type": "stream",
     "text": [
      "Train Epoch 61: 100%|██████████| 391/391 [00:32<00:00, 12.00it/s]\n"
     ]
    },
    {
     "name": "stdout",
     "output_type": "stream",
     "text": [
      "Epoch 61: Train Loss: 0.6279 | Train Acc: 86.61% | Test Loss: 0.6072 | Test Acc: 87.84%\n"
     ]
    },
    {
     "name": "stderr",
     "output_type": "stream",
     "text": [
      "Train Epoch 62: 100%|██████████| 391/391 [00:32<00:00, 11.93it/s]\n"
     ]
    },
    {
     "name": "stdout",
     "output_type": "stream",
     "text": [
      "Epoch 62: Train Loss: 0.6294 | Train Acc: 86.68% | Test Loss: 0.6165 | Test Acc: 87.10%\n"
     ]
    },
    {
     "name": "stderr",
     "output_type": "stream",
     "text": [
      "Train Epoch 63: 100%|██████████| 391/391 [00:32<00:00, 12.06it/s]\n"
     ]
    },
    {
     "name": "stdout",
     "output_type": "stream",
     "text": [
      "Epoch 63: Train Loss: 0.5915 | Train Acc: 88.12% | Test Loss: 0.5872 | Test Acc: 88.39%\n"
     ]
    },
    {
     "name": "stderr",
     "output_type": "stream",
     "text": [
      "Train Epoch 64: 100%|██████████| 391/391 [00:32<00:00, 12.07it/s]\n"
     ]
    },
    {
     "name": "stdout",
     "output_type": "stream",
     "text": [
      "Epoch 64: Train Loss: 0.6034 | Train Acc: 87.69% | Test Loss: 0.5948 | Test Acc: 88.72%\n"
     ]
    },
    {
     "name": "stderr",
     "output_type": "stream",
     "text": [
      "Train Epoch 65: 100%|██████████| 391/391 [00:32<00:00, 12.04it/s]\n"
     ]
    },
    {
     "name": "stdout",
     "output_type": "stream",
     "text": [
      "Epoch 65: Train Loss: 0.5992 | Train Acc: 87.76% | Test Loss: 0.5945 | Test Acc: 88.29%\n"
     ]
    },
    {
     "name": "stderr",
     "output_type": "stream",
     "text": [
      "Train Epoch 66: 100%|██████████| 391/391 [00:32<00:00, 12.02it/s]\n"
     ]
    },
    {
     "name": "stdout",
     "output_type": "stream",
     "text": [
      "Epoch 66: Train Loss: 0.5725 | Train Acc: 88.57% | Test Loss: 0.5749 | Test Acc: 88.94%\n"
     ]
    },
    {
     "name": "stderr",
     "output_type": "stream",
     "text": [
      "Train Epoch 67: 100%|██████████| 391/391 [00:32<00:00, 11.98it/s]\n"
     ]
    },
    {
     "name": "stdout",
     "output_type": "stream",
     "text": [
      "Epoch 67: Train Loss: 0.5877 | Train Acc: 88.11% | Test Loss: 0.5869 | Test Acc: 88.29%\n"
     ]
    },
    {
     "name": "stderr",
     "output_type": "stream",
     "text": [
      "Train Epoch 68: 100%|██████████| 391/391 [00:32<00:00, 12.03it/s]\n"
     ]
    },
    {
     "name": "stdout",
     "output_type": "stream",
     "text": [
      "Epoch 68: Train Loss: 0.5764 | Train Acc: 88.55% | Test Loss: 0.5728 | Test Acc: 88.97%\n"
     ]
    },
    {
     "name": "stderr",
     "output_type": "stream",
     "text": [
      "Train Epoch 69: 100%|██████████| 391/391 [00:32<00:00, 12.01it/s]\n"
     ]
    },
    {
     "name": "stdout",
     "output_type": "stream",
     "text": [
      "Epoch 69: Train Loss: 0.5718 | Train Acc: 88.74% | Test Loss: 0.5689 | Test Acc: 89.30%\n"
     ]
    },
    {
     "name": "stderr",
     "output_type": "stream",
     "text": [
      "Train Epoch 70: 100%|██████████| 391/391 [00:32<00:00, 12.11it/s]\n"
     ]
    },
    {
     "name": "stdout",
     "output_type": "stream",
     "text": [
      "Epoch 70: Train Loss: 0.5555 | Train Acc: 89.38% | Test Loss: 0.5668 | Test Acc: 89.45%\n"
     ]
    },
    {
     "name": "stderr",
     "output_type": "stream",
     "text": [
      "Train Epoch 71: 100%|██████████| 391/391 [00:37<00:00, 10.35it/s]\n"
     ]
    },
    {
     "name": "stdout",
     "output_type": "stream",
     "text": [
      "Epoch 71: Train Loss: 0.5478 | Train Acc: 89.72% | Test Loss: 0.5645 | Test Acc: 89.49%\n"
     ]
    },
    {
     "name": "stderr",
     "output_type": "stream",
     "text": [
      "Train Epoch 72: 100%|██████████| 391/391 [00:33<00:00, 11.72it/s]\n"
     ]
    },
    {
     "name": "stdout",
     "output_type": "stream",
     "text": [
      "Epoch 72: Train Loss: 0.5498 | Train Acc: 89.73% | Test Loss: 0.5667 | Test Acc: 89.66%\n"
     ]
    },
    {
     "name": "stderr",
     "output_type": "stream",
     "text": [
      "Train Epoch 73: 100%|██████████| 391/391 [00:32<00:00, 12.15it/s]\n"
     ]
    },
    {
     "name": "stdout",
     "output_type": "stream",
     "text": [
      "Epoch 73: Train Loss: 0.5270 | Train Acc: 90.54% | Test Loss: 0.5535 | Test Acc: 89.84%\n"
     ]
    },
    {
     "name": "stderr",
     "output_type": "stream",
     "text": [
      "Train Epoch 74: 100%|██████████| 391/391 [00:32<00:00, 12.19it/s]\n"
     ]
    },
    {
     "name": "stdout",
     "output_type": "stream",
     "text": [
      "Epoch 74: Train Loss: 0.5249 | Train Acc: 90.50% | Test Loss: 0.5487 | Test Acc: 90.05%\n"
     ]
    },
    {
     "name": "stderr",
     "output_type": "stream",
     "text": [
      "Train Epoch 75: 100%|██████████| 391/391 [00:31<00:00, 12.22it/s]\n"
     ]
    },
    {
     "name": "stdout",
     "output_type": "stream",
     "text": [
      "Epoch 75: Train Loss: 0.5138 | Train Acc: 91.13% | Test Loss: 0.5437 | Test Acc: 90.24%\n"
     ]
    },
    {
     "name": "stderr",
     "output_type": "stream",
     "text": [
      "Train Epoch 76: 100%|██████████| 391/391 [00:32<00:00, 12.18it/s]\n"
     ]
    },
    {
     "name": "stdout",
     "output_type": "stream",
     "text": [
      "Epoch 76: Train Loss: 0.5156 | Train Acc: 90.97% | Test Loss: 0.5504 | Test Acc: 90.07%\n"
     ]
    },
    {
     "name": "stderr",
     "output_type": "stream",
     "text": [
      "Train Epoch 77: 100%|██████████| 391/391 [00:32<00:00, 12.14it/s]\n"
     ]
    },
    {
     "name": "stdout",
     "output_type": "stream",
     "text": [
      "Epoch 77: Train Loss: 0.5059 | Train Acc: 91.39% | Test Loss: 0.5410 | Test Acc: 90.56%\n"
     ]
    },
    {
     "name": "stderr",
     "output_type": "stream",
     "text": [
      "Train Epoch 78: 100%|██████████| 391/391 [00:32<00:00, 12.19it/s]\n"
     ]
    },
    {
     "name": "stdout",
     "output_type": "stream",
     "text": [
      "Epoch 78: Train Loss: 0.4966 | Train Acc: 91.66% | Test Loss: 0.5399 | Test Acc: 90.52%\n"
     ]
    },
    {
     "name": "stderr",
     "output_type": "stream",
     "text": [
      "Train Epoch 79: 100%|██████████| 391/391 [00:32<00:00, 12.18it/s]\n"
     ]
    },
    {
     "name": "stdout",
     "output_type": "stream",
     "text": [
      "Epoch 79: Train Loss: 0.4882 | Train Acc: 92.04% | Test Loss: 0.5370 | Test Acc: 90.50%\n"
     ]
    },
    {
     "name": "stderr",
     "output_type": "stream",
     "text": [
      "Train Epoch 80: 100%|██████████| 391/391 [00:32<00:00, 12.14it/s]\n"
     ]
    },
    {
     "name": "stdout",
     "output_type": "stream",
     "text": [
      "Epoch 80: Train Loss: 0.4838 | Train Acc: 92.09% | Test Loss: 0.5352 | Test Acc: 90.52%\n"
     ]
    },
    {
     "name": "stderr",
     "output_type": "stream",
     "text": [
      "Train Epoch 81: 100%|██████████| 391/391 [00:32<00:00, 12.15it/s]\n"
     ]
    },
    {
     "name": "stdout",
     "output_type": "stream",
     "text": [
      "Epoch 81: Train Loss: 0.4851 | Train Acc: 92.21% | Test Loss: 0.5407 | Test Acc: 90.42%\n"
     ]
    },
    {
     "name": "stderr",
     "output_type": "stream",
     "text": [
      "Train Epoch 82: 100%|██████████| 391/391 [00:32<00:00, 12.18it/s]\n"
     ]
    },
    {
     "name": "stdout",
     "output_type": "stream",
     "text": [
      "Epoch 82: Train Loss: 0.4722 | Train Acc: 92.70% | Test Loss: 0.5267 | Test Acc: 90.97%\n"
     ]
    },
    {
     "name": "stderr",
     "output_type": "stream",
     "text": [
      "Train Epoch 83: 100%|██████████| 391/391 [00:32<00:00, 12.15it/s]\n"
     ]
    },
    {
     "name": "stdout",
     "output_type": "stream",
     "text": [
      "Epoch 83: Train Loss: 0.4637 | Train Acc: 92.96% | Test Loss: 0.5325 | Test Acc: 90.95%\n"
     ]
    },
    {
     "name": "stderr",
     "output_type": "stream",
     "text": [
      "Train Epoch 84: 100%|██████████| 391/391 [00:32<00:00, 12.10it/s]\n"
     ]
    },
    {
     "name": "stdout",
     "output_type": "stream",
     "text": [
      "Epoch 84: Train Loss: 0.4596 | Train Acc: 93.21% | Test Loss: 0.5291 | Test Acc: 90.88%\n"
     ]
    },
    {
     "name": "stderr",
     "output_type": "stream",
     "text": [
      "Train Epoch 85: 100%|██████████| 391/391 [00:32<00:00, 12.19it/s]\n"
     ]
    },
    {
     "name": "stdout",
     "output_type": "stream",
     "text": [
      "Epoch 85: Train Loss: 0.4565 | Train Acc: 93.18% | Test Loss: 0.5263 | Test Acc: 90.83%\n"
     ]
    },
    {
     "name": "stderr",
     "output_type": "stream",
     "text": [
      "Train Epoch 86: 100%|██████████| 391/391 [00:32<00:00, 12.09it/s]\n"
     ]
    },
    {
     "name": "stdout",
     "output_type": "stream",
     "text": [
      "Epoch 86: Train Loss: 0.4503 | Train Acc: 93.48% | Test Loss: 0.5269 | Test Acc: 91.14%\n"
     ]
    },
    {
     "name": "stderr",
     "output_type": "stream",
     "text": [
      "Train Epoch 87: 100%|██████████| 391/391 [00:32<00:00, 12.05it/s]\n"
     ]
    },
    {
     "name": "stdout",
     "output_type": "stream",
     "text": [
      "Epoch 87: Train Loss: 0.4478 | Train Acc: 93.61% | Test Loss: 0.5228 | Test Acc: 91.26%\n"
     ]
    },
    {
     "name": "stderr",
     "output_type": "stream",
     "text": [
      "Train Epoch 88: 100%|██████████| 391/391 [00:32<00:00, 12.05it/s]\n"
     ]
    },
    {
     "name": "stdout",
     "output_type": "stream",
     "text": [
      "Epoch 88: Train Loss: 0.4464 | Train Acc: 93.61% | Test Loss: 0.5224 | Test Acc: 91.14%\n"
     ]
    },
    {
     "name": "stderr",
     "output_type": "stream",
     "text": [
      "Train Epoch 89: 100%|██████████| 391/391 [00:32<00:00, 12.08it/s]\n"
     ]
    },
    {
     "name": "stdout",
     "output_type": "stream",
     "text": [
      "Epoch 89: Train Loss: 0.4407 | Train Acc: 93.89% | Test Loss: 0.5204 | Test Acc: 91.18%\n"
     ]
    },
    {
     "name": "stderr",
     "output_type": "stream",
     "text": [
      "Train Epoch 90: 100%|██████████| 391/391 [00:32<00:00, 12.06it/s]\n"
     ]
    },
    {
     "name": "stdout",
     "output_type": "stream",
     "text": [
      "Epoch 90: Train Loss: 0.4406 | Train Acc: 93.87% | Test Loss: 0.5167 | Test Acc: 91.41%\n"
     ]
    },
    {
     "name": "stderr",
     "output_type": "stream",
     "text": [
      "Train Epoch 91: 100%|██████████| 391/391 [00:32<00:00, 12.12it/s]\n"
     ]
    },
    {
     "name": "stdout",
     "output_type": "stream",
     "text": [
      "Epoch 91: Train Loss: 0.4362 | Train Acc: 94.10% | Test Loss: 0.5181 | Test Acc: 91.53%\n"
     ]
    },
    {
     "name": "stderr",
     "output_type": "stream",
     "text": [
      "Train Epoch 92: 100%|██████████| 391/391 [00:32<00:00, 12.16it/s]\n"
     ]
    },
    {
     "name": "stdout",
     "output_type": "stream",
     "text": [
      "Epoch 92: Train Loss: 0.4347 | Train Acc: 94.01% | Test Loss: 0.5140 | Test Acc: 91.64%\n"
     ]
    },
    {
     "name": "stderr",
     "output_type": "stream",
     "text": [
      "Train Epoch 93: 100%|██████████| 391/391 [00:32<00:00, 12.11it/s]\n"
     ]
    },
    {
     "name": "stdout",
     "output_type": "stream",
     "text": [
      "Epoch 93: Train Loss: 0.4302 | Train Acc: 94.25% | Test Loss: 0.5165 | Test Acc: 91.51%\n"
     ]
    },
    {
     "name": "stderr",
     "output_type": "stream",
     "text": [
      "Train Epoch 94: 100%|██████████| 391/391 [00:32<00:00, 12.16it/s]\n"
     ]
    },
    {
     "name": "stdout",
     "output_type": "stream",
     "text": [
      "Epoch 94: Train Loss: 0.4311 | Train Acc: 94.24% | Test Loss: 0.5150 | Test Acc: 91.42%\n"
     ]
    },
    {
     "name": "stderr",
     "output_type": "stream",
     "text": [
      "Train Epoch 95: 100%|██████████| 391/391 [00:34<00:00, 11.47it/s]\n"
     ]
    },
    {
     "name": "stdout",
     "output_type": "stream",
     "text": [
      "Epoch 95: Train Loss: 0.4268 | Train Acc: 94.45% | Test Loss: 0.5160 | Test Acc: 91.54%\n"
     ]
    },
    {
     "name": "stderr",
     "output_type": "stream",
     "text": [
      "Train Epoch 96: 100%|██████████| 391/391 [00:32<00:00, 12.14it/s]\n"
     ]
    },
    {
     "name": "stdout",
     "output_type": "stream",
     "text": [
      "Epoch 96: Train Loss: 0.4259 | Train Acc: 94.51% | Test Loss: 0.5151 | Test Acc: 91.47%\n"
     ]
    },
    {
     "name": "stderr",
     "output_type": "stream",
     "text": [
      "Train Epoch 97: 100%|██████████| 391/391 [00:37<00:00, 10.51it/s]\n"
     ]
    },
    {
     "name": "stdout",
     "output_type": "stream",
     "text": [
      "Epoch 97: Train Loss: 0.4249 | Train Acc: 94.52% | Test Loss: 0.5137 | Test Acc: 91.71%\n"
     ]
    },
    {
     "name": "stderr",
     "output_type": "stream",
     "text": [
      "Train Epoch 98: 100%|██████████| 391/391 [00:33<00:00, 11.72it/s]\n"
     ]
    },
    {
     "name": "stdout",
     "output_type": "stream",
     "text": [
      "Epoch 98: Train Loss: 0.4250 | Train Acc: 94.42% | Test Loss: 0.5137 | Test Acc: 91.75%\n"
     ]
    },
    {
     "name": "stderr",
     "output_type": "stream",
     "text": [
      "Train Epoch 99: 100%|██████████| 391/391 [00:34<00:00, 11.33it/s]\n"
     ]
    },
    {
     "name": "stdout",
     "output_type": "stream",
     "text": [
      "Epoch 99: Train Loss: 0.4249 | Train Acc: 94.49% | Test Loss: 0.5133 | Test Acc: 91.62%\n"
     ]
    },
    {
     "name": "stderr",
     "output_type": "stream",
     "text": [
      "Train Epoch 100: 100%|██████████| 391/391 [00:32<00:00, 12.18it/s]\n"
     ]
    },
    {
     "name": "stdout",
     "output_type": "stream",
     "text": [
      "Epoch 100: Train Loss: 0.4271 | Train Acc: 94.40% | Test Loss: 0.5132 | Test Acc: 91.64%\n",
      "Training complete. Best Test Acc: 91.75%\n"
     ]
    }
   ],
   "source": [
    "model, metrics = train_model()"
   ]
  },
  {
   "cell_type": "markdown",
   "id": "259223c9-5ad1-49e5-919e-a12cef0d2ccb",
   "metadata": {},
   "source": [
    "## Plotting"
   ]
  },
  {
   "cell_type": "code",
   "execution_count": 19,
   "id": "27393175-eeb0-41a5-abea-4fc1818c023f",
   "metadata": {},
   "outputs": [
    {
     "data": {
      "image/png": "[encoded data removed]",
      "text/plain": [
       "<Figure size 1000x400 with 1 Axes>"
      ]
     },
     "metadata": {},
     "output_type": "display_data"
    },
    {
     "data": {
      "image/png": "[encoded data removed]",
      "text/plain": [
       "<Figure size 1000x400 with 1 Axes>"
      ]
     },
     "metadata": {},
     "output_type": "display_data"
    }
   ],
   "source": [
    "plot_metrics(metrics)"
   ]
  },
  {
   "cell_type": "code",
   "execution_count": null,
   "id": "b9d2ce44-daa1-4463-9c1b-ab3b187195a1",
   "metadata": {},
   "outputs": [],
   "source": []
  },
  {
   "cell_type": "code",
   "execution_count": null,
   "id": "f0b1bd94-70ab-4cc4-baa2-223ec574a911",
   "metadata": {},
   "outputs": [],
   "source": []
  }
 ],
 "metadata": {
  "kernelspec": {
   "display_name": "Python 3 (ipykernel)",
   "language": "python",
   "name": "python3"
  },
  "language_info": {
   "codemirror_mode": {
    "name": "ipython",
    "version": 3
   },
   "file_extension": ".py",
   "mimetype": "text/x-python",
   "name": "python",
   "nbconvert_exporter": "python",
   "pygments_lexer": "ipython3",
   "version": "3.12.7"
  }
 },
 "nbformat": 4,
 "nbformat_minor": 5
}
